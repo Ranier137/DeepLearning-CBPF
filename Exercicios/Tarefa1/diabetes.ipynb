{
 "cells": [
  {
   "cell_type": "code",
   "execution_count": 169,
   "metadata": {
    "scrolled": true
   },
   "outputs": [],
   "source": [
    "import numpy as np\n",
    "import pandas as pd\n",
    "from tensorflow import keras\n",
    "from tensorflow.keras.models import Sequential\n",
    "from tensorflow.keras.layers import Dense"
   ]
  },
  {
   "cell_type": "code",
   "execution_count": 172,
   "metadata": {},
   "outputs": [],
   "source": [
    "def func(x,h):\n",
    "    if x>h:\n",
    "        return 1.0\n",
    "    else:\n",
    "        return 0.0"
   ]
  },
  {
   "cell_type": "code",
   "execution_count": 173,
   "metadata": {},
   "outputs": [],
   "source": [
    "data = pd.read_csv('Pima-Diabetes.csv', delimiter = ',', names=['0','1','2','3','4','5','6','7','8'])\n",
    "pred = pd.read_csv('Test-Group-2.csv', delimiter = ',', names=['0','1','2','3','4','5','6','7','8'])\n",
    "#print(data)\n",
    "data_train = np.array(data[['0','1','2','3','4','5','6','7']][:600])\n",
    "data_true = np.array(data[['8']][:600])\n",
    "#print(data_train)\n",
    "#print(data_true)\n",
    "data_train.shape\n",
    "#print(len(data_true))\n",
    "data_test = np.array(data[['0','1','2','3','4','5','6','7']][600:])\n",
    "test_true = np.array(data[['8']][600:])\n",
    "#print(data_test)\n",
    "#print(test_true)\n",
    "pred_data = np.array(pred[['0','1','2','3','4','5','6','7']])"
   ]
  },
  {
   "cell_type": "code",
   "execution_count": 174,
   "metadata": {},
   "outputs": [],
   "source": [
    "model = Sequential([Dense(1000, activation='sigmoid', input_shape=(8,)),Dense(100, activation='sigmoid', input_shape=(8,)),Dense(50, activation='sigmoid'),Dense(1, activation='sigmoid')])"
   ]
  },
  {
   "cell_type": "code",
   "execution_count": 175,
   "metadata": {},
   "outputs": [
    {
     "name": "stdout",
     "output_type": "stream",
     "text": [
      "Model: \"sequential_23\"\n",
      "_________________________________________________________________\n",
      "Layer (type)                 Output Shape              Param #   \n",
      "=================================================================\n",
      "dense_77 (Dense)             (None, 1000)              9000      \n",
      "_________________________________________________________________\n",
      "dense_78 (Dense)             (None, 100)               100100    \n",
      "_________________________________________________________________\n",
      "dense_79 (Dense)             (None, 50)                5050      \n",
      "_________________________________________________________________\n",
      "dense_80 (Dense)             (None, 1)                 51        \n",
      "=================================================================\n",
      "Total params: 114,201\n",
      "Trainable params: 114,201\n",
      "Non-trainable params: 0\n",
      "_________________________________________________________________\n"
     ]
    }
   ],
   "source": [
    "model.compile(optimizer='adam',loss='binary_crossentropy',metrics=['accuracy'])\n",
    "model.summary()"
   ]
  },
  {
   "cell_type": "code",
   "execution_count": 176,
   "metadata": {},
   "outputs": [
    {
     "name": "stdout",
     "output_type": "stream",
     "text": [
      "Epoch 1/100\n",
      "2/2 [==============================] - 0s 5ms/step - loss: 1.2111 - accuracy: 0.3467\n",
      "Epoch 2/100\n",
      "2/2 [==============================] - 0s 6ms/step - loss: 0.8496 - accuracy: 0.3467\n",
      "Epoch 3/100\n",
      "2/2 [==============================] - 0s 6ms/step - loss: 0.7049 - accuracy: 0.4550\n",
      "Epoch 4/100\n",
      "2/2 [==============================] - 0s 8ms/step - loss: 0.6600 - accuracy: 0.6533\n",
      "Epoch 5/100\n",
      "2/2 [==============================] - 0s 9ms/step - loss: 0.6472 - accuracy: 0.6533\n",
      "Epoch 6/100\n",
      "2/2 [==============================] - 0s 10ms/step - loss: 0.6452 - accuracy: 0.6533\n",
      "Epoch 7/100\n",
      "2/2 [==============================] - 0s 7ms/step - loss: 0.6469 - accuracy: 0.6533\n",
      "Epoch 8/100\n",
      "2/2 [==============================] - 0s 9ms/step - loss: 0.6492 - accuracy: 0.6533\n",
      "Epoch 9/100\n",
      "2/2 [==============================] - 0s 9ms/step - loss: 0.6510 - accuracy: 0.6533\n",
      "Epoch 10/100\n",
      "2/2 [==============================] - 0s 9ms/step - loss: 0.6523 - accuracy: 0.6533\n",
      "Epoch 11/100\n",
      "2/2 [==============================] - 0s 5ms/step - loss: 0.6524 - accuracy: 0.6533\n",
      "Epoch 12/100\n",
      "2/2 [==============================] - 0s 10ms/step - loss: 0.6515 - accuracy: 0.6533\n",
      "Epoch 13/100\n",
      "2/2 [==============================] - 0s 6ms/step - loss: 0.6504 - accuracy: 0.6533\n",
      "Epoch 14/100\n",
      "2/2 [==============================] - 0s 3ms/step - loss: 0.6490 - accuracy: 0.6533\n",
      "Epoch 15/100\n",
      "2/2 [==============================] - 0s 5ms/step - loss: 0.6478 - accuracy: 0.6533\n",
      "Epoch 16/100\n",
      "2/2 [==============================] - 0s 7ms/step - loss: 0.6464 - accuracy: 0.6533\n",
      "Epoch 17/100\n",
      "2/2 [==============================] - 0s 4ms/step - loss: 0.6458 - accuracy: 0.6533\n",
      "Epoch 18/100\n",
      "2/2 [==============================] - 0s 7ms/step - loss: 0.6447 - accuracy: 0.6533\n",
      "Epoch 19/100\n",
      "2/2 [==============================] - 0s 11ms/step - loss: 0.6444 - accuracy: 0.6533\n",
      "Epoch 20/100\n",
      "2/2 [==============================] - 0s 12ms/step - loss: 0.6441 - accuracy: 0.6533\n",
      "Epoch 21/100\n",
      "2/2 [==============================] - 0s 7ms/step - loss: 0.6436 - accuracy: 0.6533\n",
      "Epoch 22/100\n",
      "2/2 [==============================] - 0s 7ms/step - loss: 0.6434 - accuracy: 0.6533\n",
      "Epoch 23/100\n",
      "2/2 [==============================] - 0s 7ms/step - loss: 0.6431 - accuracy: 0.6533\n",
      "Epoch 24/100\n",
      "2/2 [==============================] - 0s 8ms/step - loss: 0.6429 - accuracy: 0.6533\n",
      "Epoch 25/100\n",
      "2/2 [==============================] - 0s 10ms/step - loss: 0.6424 - accuracy: 0.6533\n",
      "Epoch 26/100\n",
      "2/2 [==============================] - 0s 9ms/step - loss: 0.6418 - accuracy: 0.6533\n",
      "Epoch 27/100\n",
      "2/2 [==============================] - 0s 6ms/step - loss: 0.6411 - accuracy: 0.6533\n",
      "Epoch 28/100\n",
      "2/2 [==============================] - 0s 5ms/step - loss: 0.6405 - accuracy: 0.6533\n",
      "Epoch 29/100\n",
      "2/2 [==============================] - 0s 6ms/step - loss: 0.6396 - accuracy: 0.6533\n",
      "Epoch 30/100\n",
      "2/2 [==============================] - 0s 5ms/step - loss: 0.6388 - accuracy: 0.6533\n",
      "Epoch 31/100\n",
      "2/2 [==============================] - 0s 6ms/step - loss: 0.6379 - accuracy: 0.6533\n",
      "Epoch 32/100\n",
      "2/2 [==============================] - 0s 7ms/step - loss: 0.6370 - accuracy: 0.6533\n",
      "Epoch 33/100\n",
      "2/2 [==============================] - 0s 11ms/step - loss: 0.6361 - accuracy: 0.6533\n",
      "Epoch 34/100\n",
      "2/2 [==============================] - 0s 10ms/step - loss: 0.6350 - accuracy: 0.6533\n",
      "Epoch 35/100\n",
      "2/2 [==============================] - 0s 6ms/step - loss: 0.6337 - accuracy: 0.6533\n",
      "Epoch 36/100\n",
      "2/2 [==============================] - 0s 8ms/step - loss: 0.6326 - accuracy: 0.6533\n",
      "Epoch 37/100\n",
      "2/2 [==============================] - 0s 12ms/step - loss: 0.6315 - accuracy: 0.6533\n",
      "Epoch 38/100\n",
      "2/2 [==============================] - 0s 10ms/step - loss: 0.6303 - accuracy: 0.6533\n",
      "Epoch 39/100\n",
      "2/2 [==============================] - 0s 13ms/step - loss: 0.6289 - accuracy: 0.6533\n",
      "Epoch 40/100\n",
      "2/2 [==============================] - 0s 6ms/step - loss: 0.6276 - accuracy: 0.6533\n",
      "Epoch 41/100\n",
      "2/2 [==============================] - 0s 9ms/step - loss: 0.6266 - accuracy: 0.6533\n",
      "Epoch 42/100\n",
      "2/2 [==============================] - 0s 9ms/step - loss: 0.6250 - accuracy: 0.6533\n",
      "Epoch 43/100\n",
      "2/2 [==============================] - 0s 7ms/step - loss: 0.6237 - accuracy: 0.6533\n",
      "Epoch 44/100\n",
      "2/2 [==============================] - 0s 9ms/step - loss: 0.6224 - accuracy: 0.6533\n",
      "Epoch 45/100\n",
      "2/2 [==============================] - 0s 9ms/step - loss: 0.6208 - accuracy: 0.6533\n",
      "Epoch 46/100\n",
      "2/2 [==============================] - 0s 12ms/step - loss: 0.6191 - accuracy: 0.6533\n",
      "Epoch 47/100\n",
      "2/2 [==============================] - 0s 8ms/step - loss: 0.6176 - accuracy: 0.6533\n",
      "Epoch 48/100\n",
      "2/2 [==============================] - 0s 9ms/step - loss: 0.6162 - accuracy: 0.6533\n",
      "Epoch 49/100\n",
      "2/2 [==============================] - 0s 5ms/step - loss: 0.6148 - accuracy: 0.6533\n",
      "Epoch 50/100\n",
      "2/2 [==============================] - 0s 10ms/step - loss: 0.6129 - accuracy: 0.6533\n",
      "Epoch 51/100\n",
      "2/2 [==============================] - 0s 9ms/step - loss: 0.6117 - accuracy: 0.6533\n",
      "Epoch 52/100\n",
      "2/2 [==============================] - 0s 8ms/step - loss: 0.6093 - accuracy: 0.6533\n",
      "Epoch 53/100\n",
      "2/2 [==============================] - 0s 8ms/step - loss: 0.6089 - accuracy: 0.6533\n",
      "Epoch 54/100\n",
      "2/2 [==============================] - 0s 10ms/step - loss: 0.6066 - accuracy: 0.6533\n",
      "Epoch 55/100\n",
      "2/2 [==============================] - 0s 8ms/step - loss: 0.6051 - accuracy: 0.6533\n",
      "Epoch 56/100\n",
      "2/2 [==============================] - 0s 5ms/step - loss: 0.6028 - accuracy: 0.6533\n",
      "Epoch 57/100\n",
      "2/2 [==============================] - 0s 11ms/step - loss: 0.6011 - accuracy: 0.6533\n",
      "Epoch 58/100\n",
      "2/2 [==============================] - 0s 9ms/step - loss: 0.6007 - accuracy: 0.6533\n",
      "Epoch 59/100\n",
      "2/2 [==============================] - 0s 7ms/step - loss: 0.5968 - accuracy: 0.6533\n",
      "Epoch 60/100\n",
      "2/2 [==============================] - 0s 7ms/step - loss: 0.5947 - accuracy: 0.6533\n",
      "Epoch 61/100\n",
      "2/2 [==============================] - 0s 9ms/step - loss: 0.5927 - accuracy: 0.6533\n",
      "Epoch 62/100\n",
      "2/2 [==============================] - 0s 7ms/step - loss: 0.5906 - accuracy: 0.6533\n",
      "Epoch 63/100\n",
      "2/2 [==============================] - 0s 9ms/step - loss: 0.5882 - accuracy: 0.6533\n",
      "Epoch 64/100\n",
      "2/2 [==============================] - ETA: 0s - loss: 0.5933 - accuracy: 0.65 - 0s 6ms/step - loss: 0.5858 - accuracy: 0.6533\n",
      "Epoch 65/100\n",
      "2/2 [==============================] - 0s 6ms/step - loss: 0.5838 - accuracy: 0.6533\n",
      "Epoch 66/100\n",
      "2/2 [==============================] - 0s 9ms/step - loss: 0.5804 - accuracy: 0.6533\n",
      "Epoch 67/100\n",
      "2/2 [==============================] - 0s 9ms/step - loss: 0.5779 - accuracy: 0.6533\n",
      "Epoch 68/100\n",
      "2/2 [==============================] - 0s 9ms/step - loss: 0.5752 - accuracy: 0.6533\n",
      "Epoch 69/100\n",
      "2/2 [==============================] - 0s 10ms/step - loss: 0.5730 - accuracy: 0.6733\n",
      "Epoch 70/100\n",
      "2/2 [==============================] - 0s 9ms/step - loss: 0.5703 - accuracy: 0.6767\n",
      "Epoch 71/100\n",
      "2/2 [==============================] - 0s 7ms/step - loss: 0.5684 - accuracy: 0.6833\n",
      "Epoch 72/100\n",
      "2/2 [==============================] - 0s 9ms/step - loss: 0.5644 - accuracy: 0.7100\n",
      "Epoch 73/100\n",
      "2/2 [==============================] - 0s 11ms/step - loss: 0.5619 - accuracy: 0.7217\n",
      "Epoch 74/100\n",
      "2/2 [==============================] - 0s 7ms/step - loss: 0.5588 - accuracy: 0.7167\n",
      "Epoch 75/100\n",
      "2/2 [==============================] - 0s 6ms/step - loss: 0.5566 - accuracy: 0.7217\n",
      "Epoch 76/100\n",
      "2/2 [==============================] - 0s 10ms/step - loss: 0.5548 - accuracy: 0.7350\n",
      "Epoch 77/100\n",
      "2/2 [==============================] - 0s 7ms/step - loss: 0.5525 - accuracy: 0.7333\n",
      "Epoch 78/100\n",
      "2/2 [==============================] - 0s 8ms/step - loss: 0.5516 - accuracy: 0.7500\n",
      "Epoch 79/100\n",
      "2/2 [==============================] - 0s 8ms/step - loss: 0.5475 - accuracy: 0.7583\n",
      "Epoch 80/100\n",
      "2/2 [==============================] - 0s 8ms/step - loss: 0.5437 - accuracy: 0.7483\n",
      "Epoch 81/100\n",
      "2/2 [==============================] - 0s 7ms/step - loss: 0.5444 - accuracy: 0.7533\n",
      "Epoch 82/100\n",
      "2/2 [==============================] - 0s 13ms/step - loss: 0.5373 - accuracy: 0.7617\n",
      "Epoch 83/100\n",
      "2/2 [==============================] - 0s 9ms/step - loss: 0.5414 - accuracy: 0.7383\n",
      "Epoch 84/100\n"
     ]
    },
    {
     "name": "stdout",
     "output_type": "stream",
     "text": [
      "2/2 [==============================] - 0s 7ms/step - loss: 0.5386 - accuracy: 0.7517\n",
      "Epoch 85/100\n",
      "2/2 [==============================] - 0s 7ms/step - loss: 0.5325 - accuracy: 0.7567\n",
      "Epoch 86/100\n",
      "2/2 [==============================] - 0s 6ms/step - loss: 0.5341 - accuracy: 0.7567\n",
      "Epoch 87/100\n",
      "2/2 [==============================] - 0s 8ms/step - loss: 0.5271 - accuracy: 0.7617\n",
      "Epoch 88/100\n",
      "2/2 [==============================] - 0s 4ms/step - loss: 0.5309 - accuracy: 0.7667\n",
      "Epoch 89/100\n",
      "2/2 [==============================] - 0s 7ms/step - loss: 0.5243 - accuracy: 0.7617\n",
      "Epoch 90/100\n",
      "2/2 [==============================] - 0s 8ms/step - loss: 0.5230 - accuracy: 0.7617\n",
      "Epoch 91/100\n",
      "2/2 [==============================] - 0s 4ms/step - loss: 0.5221 - accuracy: 0.7683\n",
      "Epoch 92/100\n",
      "2/2 [==============================] - 0s 5ms/step - loss: 0.5169 - accuracy: 0.7717\n",
      "Epoch 93/100\n",
      "2/2 [==============================] - 0s 4ms/step - loss: 0.5194 - accuracy: 0.7633\n",
      "Epoch 94/100\n",
      "2/2 [==============================] - 0s 7ms/step - loss: 0.5153 - accuracy: 0.7583\n",
      "Epoch 95/100\n",
      "2/2 [==============================] - 0s 6ms/step - loss: 0.5148 - accuracy: 0.7683\n",
      "Epoch 96/100\n",
      "2/2 [==============================] - 0s 10ms/step - loss: 0.5132 - accuracy: 0.7733\n",
      "Epoch 97/100\n",
      "2/2 [==============================] - 0s 7ms/step - loss: 0.5074 - accuracy: 0.7683\n",
      "Epoch 98/100\n",
      "2/2 [==============================] - 0s 6ms/step - loss: 0.5143 - accuracy: 0.7583\n",
      "Epoch 99/100\n",
      "2/2 [==============================] - 0s 6ms/step - loss: 0.5051 - accuracy: 0.7717\n",
      "Epoch 100/100\n",
      "2/2 [==============================] - 0s 4ms/step - loss: 0.5122 - accuracy: 0.7633\n"
     ]
    },
    {
     "data": {
      "text/plain": [
       "<tensorflow.python.keras.callbacks.History at 0x7ff4a8f48c50>"
      ]
     },
     "execution_count": 176,
     "metadata": {},
     "output_type": "execute_result"
    }
   ],
   "source": [
    "model.fit(data_train, data_true,epochs=100,batch_size=379)"
   ]
  },
  {
   "cell_type": "code",
   "execution_count": 177,
   "metadata": {},
   "outputs": [
    {
     "name": "stdout",
     "output_type": "stream",
     "text": [
      "5/5 [==============================] - 0s 2ms/step - loss: 0.5384 - accuracy: 0.7595\n"
     ]
    },
    {
     "data": {
      "text/plain": [
       "[0.5383791923522949, 0.7594936490058899]"
      ]
     },
     "execution_count": 177,
     "metadata": {},
     "output_type": "execute_result"
    }
   ],
   "source": [
    "model.evaluate(data_test,test_true)"
   ]
  },
  {
   "cell_type": "code",
   "execution_count": 178,
   "metadata": {},
   "outputs": [],
   "source": [
    "#model.save_weights('model.h5')"
   ]
  },
  {
   "cell_type": "code",
   "execution_count": 179,
   "metadata": {},
   "outputs": [],
   "source": [
    "#model.load_weights('model.h5')"
   ]
  },
  {
   "cell_type": "code",
   "execution_count": 185,
   "metadata": {},
   "outputs": [
    {
     "name": "stdout",
     "output_type": "stream",
     "text": [
      "[0.0, 1.0, 0.0, 1.0, 0.0, 0.0, 1.0, 0.0, 0.0, 0.0]\n"
     ]
    }
   ],
   "source": [
    "prediction = []\n",
    "for i in range(0,len(pred_data)): \n",
    "    prediction.append(func(model.predict(pred_data)[i], 0.5)) #threshold de 0.5\n",
    "print(prediction)"
   ]
  }
 ],
 "metadata": {
  "kernelspec": {
   "display_name": "Python 3",
   "language": "python",
   "name": "python3"
  },
  "language_info": {
   "codemirror_mode": {
    "name": "ipython",
    "version": 3
   },
   "file_extension": ".py",
   "mimetype": "text/x-python",
   "name": "python",
   "nbconvert_exporter": "python",
   "pygments_lexer": "ipython3",
   "version": "3.7.3"
  }
 },
 "nbformat": 4,
 "nbformat_minor": 2
}
